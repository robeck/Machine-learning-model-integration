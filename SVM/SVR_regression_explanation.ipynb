{
 "cells": [
  {
   "cell_type": "code",
   "execution_count": null,
   "metadata": {
    "collapsed": true
   },
   "outputs": [],
   "source": [
    "'''\n",
    "简单测试：非线性的支持向量机回归\n",
    "\n",
    "'''\n",
    "import pandas as pd\n",
    "import numpy as np\n",
    "from sklearn.model_selection import train_test_split\n",
    "import eli5\n",
    "from eli5.sklearn import PermutationImportance\n",
    "# from IPython.display import display"
   ]
  },
  {
   "cell_type": "code",
   "execution_count": null,
   "outputs": [],
   "source": [
    "n_sample,n_features = 1000,5\n",
    "random_pick = np.random.RandomState(0)\n",
    "y = random_pick.randn(n_sample) # 随机生成100各Y 标签变量\n",
    "X = random_pick.randn(n_sample,n_features) # 生成100*5的100个5个特征的 X变量\n",
    "data = pd.DataFrame({'var1':X[:,0],'var2':X[:,1],'var3':X[:,2],'var4':X[:,3],'var5':X[:,4]})\n",
    "featurenames = data.columns.tolist()\n",
    "newx = data[featurenames]\n",
    "newy = pd.Series({'labels':y})\n",
    "print(newx)"
   ],
   "metadata": {
    "collapsed": false,
    "pycharm": {
     "name": "#%%\n"
    }
   }
  },
  {
   "cell_type": "code",
   "execution_count": null,
   "outputs": [],
   "source": [
    "\n",
    "\n",
    "\n"
   ],
   "metadata": {
    "collapsed": false,
    "pycharm": {
     "name": "#%%\n"
    }
   }
  }
 ],
 "metadata": {
  "kernelspec": {
   "display_name": "Python 3",
   "language": "python",
   "name": "python3"
  },
  "language_info": {
   "codemirror_mode": {
    "name": "ipython",
    "version": 2
   },
   "file_extension": ".py",
   "mimetype": "text/x-python",
   "name": "python",
   "nbconvert_exporter": "python",
   "pygments_lexer": "ipython2",
   "version": "2.7.6"
  }
 },
 "nbformat": 4,
 "nbformat_minor": 0
}